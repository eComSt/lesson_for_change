{
 "cells": [
  {
   "cell_type": "markdown",
   "metadata": {},
   "source": [
    "Isinstance"
   ]
  },
  {
   "cell_type": "code",
   "execution_count": 2,
   "metadata": {},
   "outputs": [
    {
     "name": "stdout",
     "output_type": "stream",
     "text": [
      "True True\n"
     ]
    }
   ],
   "source": [
    "a = 5\n",
    "b = isinstance(a,(int,float))\n",
    "c = isinstance(a,int)\n",
    "print(b,c)"
   ]
  },
  {
   "cell_type": "markdown",
   "metadata": {},
   "source": [
    "Урок"
   ]
  },
  {
   "cell_type": "code",
   "execution_count": 15,
   "metadata": {},
   "outputs": [
    {
     "name": "stdout",
     "output_type": "stream",
     "text": [
      "{'name': 'Иван', 'age': 27, 'language': 'C++'}\n",
      "Иван идет на прогулку.\n"
     ]
    }
   ],
   "source": [
    "class BaseHuman:\n",
    "    def __init__(self, name, age): # инициализатор класса\n",
    "        self.name = name    # имя\n",
    "        self.age = age      # возраст\n",
    "\n",
    "    def introduce(self):    # вывод информацию об имени и возрасте\n",
    "        print(f'Привет, меня зовут {self.name}!')\n",
    "        print(f'Мой возраст: {self.age}')\n",
    "        \n",
    "    def walk(self):         # информирование, что человек идет на прогулку\n",
    "        print(f'{self.name} идет на прогулку.')\n",
    "\n",
    "# Создаем класс для моделирования программиста\n",
    "class Programmer(BaseHuman): # Наследуемся от класса BaseHuman\n",
    "    def __init__(self, name, age, language): \n",
    "        super().__init__(name, age)\n",
    "        self.language = language # язык программирования\n",
    "\n",
    "    def coding(self):\n",
    "        print(f'Программист {self.name} сейчас пишет код!')\n",
    "\n",
    "class BackendProgrammer(Programmer):pass\n",
    "    # def walk(self):         # информирование, что человек идет на прогулку\n",
    "    #     print(f'{self.name} идет на прогулку Он бэкэнд программист.')\n",
    "    \n",
    "# экземпляр класса BackendProgrammer\n",
    "backproger = BackendProgrammer(name='Иван', age=27, language='C++')\n",
    "print(backproger.__dict__)   \n",
    "backproger.walk()           \n",
    "# human = BaseHuman(name='Миша', age=36)      # экземпляр класса\n",
    "# proger = Programmer(name='Дима', age=26,language = 'Python')     # экземпляр класса \n",
    "# human.introduce() # вызовы метода introduce()\n",
    "# proger.introduce()\n",
    "# proger.coding()"
   ]
  },
  {
   "cell_type": "code",
   "execution_count": 25,
   "metadata": {},
   "outputs": [
    {
     "name": "stdout",
     "output_type": "stream",
     "text": [
      "True\n",
      "<class 'object'>\n",
      "True\n",
      "True\n"
     ]
    }
   ],
   "source": [
    "print(issubclass(BackendProgrammer, BaseHuman))\n",
    "print(BaseHuman.__base__)\n",
    "print(issubclass(Programmer, object))\n",
    "print(isinstance(backproger, BaseHuman))\n"
   ]
  }
 ],
 "metadata": {
  "kernelspec": {
   "display_name": "Python 3",
   "language": "python",
   "name": "python3"
  },
  "language_info": {
   "codemirror_mode": {
    "name": "ipython",
    "version": 3
   },
   "file_extension": ".py",
   "mimetype": "text/x-python",
   "name": "python",
   "nbconvert_exporter": "python",
   "pygments_lexer": "ipython3",
   "version": "3.11.1"
  }
 },
 "nbformat": 4,
 "nbformat_minor": 2
}
